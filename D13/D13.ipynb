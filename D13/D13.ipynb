{
 "cells": [
  {
   "cell_type": "code",
   "execution_count": 1,
   "metadata": {},
   "outputs": [],
   "source": [
    "import numpy as np\n",
    "import itertools"
   ]
  },
  {
   "cell_type": "code",
   "execution_count": 2,
   "metadata": {},
   "outputs": [
    {
     "name": "stdout",
     "output_type": "stream",
     "text": [
      "3032\n"
     ]
    }
   ],
   "source": [
    "program=np.loadtxt('./D13input.txt',delimiter=',').astype(int)\n",
    "program=np.concatenate([program,np.zeros(100000).astype(int)])"
   ]
  },
  {
   "cell_type": "code",
   "execution_count": 3,
   "metadata": {},
   "outputs": [],
   "source": [
    "# 'cheating' by adding a bunch of '3's in the input file, \"long paddle\"\n",
    "program2=np.loadtxt('./D13input-Copy.txt',delimiter=',').astype(int)  \n",
    "program2=np.concatenate([program2,np.zeros(100000).astype(int)])\n",
    "program2[0]=2"
   ]
  },
  {
   "cell_type": "code",
   "execution_count": 4,
   "metadata": {},
   "outputs": [],
   "source": [
    "def diagno2(index,data,input_arr):\n",
    "    ind=index #position of the pointer\n",
    "    input_ind=0 #pointer of the phase settings and input\n",
    "    output=0\n",
    "    output_arr=[]\n",
    "    base=0\n",
    "    a=data.copy()\n",
    "    while(True):\n",
    "        instr=list(reversed(str(a[ind])))\n",
    "        if len(instr)<5:\n",
    "            for i in range(5-len(instr)):\n",
    "                instr.append('0')\n",
    "\n",
    "        if instr[1]!='0':\n",
    "            if (instr[0]=='9')&(instr[1]=='9'):\n",
    "                output='Halt!' #amplifier terminates by itself\n",
    "                break\n",
    "            else:\n",
    "                print('second digit not zero')\n",
    "                break\n",
    "\n",
    "\n",
    "        if instr[0] in '1256789':\n",
    "            if instr[-1]=='1':\n",
    "                print('stores in immediate mode!')\n",
    "                break\n",
    "            para=np.zeros(2).astype(int)\n",
    "            for i,it in enumerate(instr[2:4]):\n",
    "                if it=='0':\n",
    "                    para[i]=a[a[ind+1+i]]\n",
    "                elif it=='1':\n",
    "                    para[i]=a[ind+1+i]\n",
    "                elif it=='2':\n",
    "                    para[i]=a[base+a[ind+1+i]]\n",
    "            \n",
    "            if instr[0] in '12789':\n",
    "                ind_temp=ind\n",
    "                if instr[0]=='1':\n",
    "                    store=para[0]+para[1]\n",
    "                    ind+=4\n",
    "                elif instr[0]=='2':\n",
    "                    store=para[0]*para[1]\n",
    "                    ind+=4\n",
    "                elif instr[0]=='7':\n",
    "                    if para[0]<para[1]:\n",
    "                        store=1\n",
    "                    else:\n",
    "                        store=0\n",
    "                    ind+=4\n",
    "                elif instr[0]=='8':\n",
    "                    if para[0]==para[1]:\n",
    "                        store=1\n",
    "                    else:\n",
    "                        store=0\n",
    "                    ind+=4\n",
    "                elif instr[0]=='9':\n",
    "                    base+=para[0]\n",
    "                    ind+=2\n",
    "\n",
    "                if instr[-1]=='0':\n",
    "                    a[a[ind_temp+3]]=store\n",
    "                if instr[-1]=='2':\n",
    "                    a[base+a[ind_temp+3]]=store\n",
    "                \n",
    "            elif instr[0]=='5':\n",
    "                if para[0]!=0:\n",
    "                    ind=para[1]\n",
    "                else:\n",
    "                    ind+=3\n",
    "            elif instr[0]=='6':\n",
    "                if para[0]==0:\n",
    "                    ind=para[1]\n",
    "                else:\n",
    "                    ind+=3\n",
    "                    \n",
    "        elif instr[0]=='3':\n",
    "            if instr[2]=='0':\n",
    "                a[a[ind+1]]=int(input_arr[input_ind]) #phase settings or inputs\n",
    "            elif instr[2]=='2':\n",
    "                a[base+a[ind+1]]=int(input_arr[input_ind])\n",
    "            input_ind+=1\n",
    "            ind+=2\n",
    "            \n",
    "        elif instr[0]=='4':\n",
    "            if instr[2]=='0':\n",
    "                output=a[a[ind+1]]\n",
    "            elif instr[2]=='1':\n",
    "                output=a[ind+1]\n",
    "            elif instr[2]=='2':\n",
    "                output=a[base+a[ind+1]]\n",
    "            output_arr.append(output)\n",
    "            ind+=2\n",
    "        else:\n",
    "            print('must be 1-9!')\n",
    "            break\n",
    "\n",
    "    #return outputs and save the status of the amplifier\n",
    "    return output_arr, ind, a "
   ]
  },
  {
   "cell_type": "markdown",
   "metadata": {},
   "source": [
    "# Part 1 #"
   ]
  },
  {
   "cell_type": "code",
   "execution_count": 22,
   "metadata": {},
   "outputs": [],
   "source": [
    "def finalfield(program):\n",
    "    out,_,_=diagno2(0,program,np.zeros(100000))\n",
    "    out_re=np.array(out).reshape((-1,3))\n",
    "    dim=np.amax(out_re,axis=0)\n",
    "    field=np.zeros((dim[1]+1,dim[0]+1),dtype=int)\n",
    "    for it in out_re:\n",
    "        field[it[1],it[0]]=it[2]\n",
    "    return field"
   ]
  },
  {
   "cell_type": "code",
   "execution_count": 23,
   "metadata": {},
   "outputs": [],
   "source": [
    "f1=finalfield(program)"
   ]
  },
  {
   "cell_type": "code",
   "execution_count": 25,
   "metadata": {},
   "outputs": [
    {
     "data": {
      "text/plain": [
       "324"
      ]
     },
     "execution_count": 25,
     "metadata": {},
     "output_type": "execute_result"
    }
   ],
   "source": [
    "(f1==2).sum()"
   ]
  },
  {
   "cell_type": "code",
   "execution_count": 26,
   "metadata": {},
   "outputs": [],
   "source": [
    "import matplotlib.pyplot as plt"
   ]
  },
  {
   "cell_type": "code",
   "execution_count": 28,
   "metadata": {},
   "outputs": [
    {
     "data": {
      "image/png": "[encoded data removed]",
      "text/plain": [
       "<Figure size 432x288 with 2 Axes>"
      ]
     },
     "metadata": {
      "needs_background": "light"
     },
     "output_type": "display_data"
    }
   ],
   "source": [
    "plt.imshow(f1)\n",
    "plt.colorbar()\n",
    "plt.show()"
   ]
  },
  {
   "cell_type": "markdown",
   "metadata": {},
   "source": [
    "# Part 2 #"
   ]
  },
  {
   "cell_type": "code",
   "execution_count": 29,
   "metadata": {},
   "outputs": [],
   "source": [
    "f2=finalfield(program2)"
   ]
  },
  {
   "cell_type": "code",
   "execution_count": 30,
   "metadata": {},
   "outputs": [
    {
     "data": {
      "text/plain": [
       "15957"
      ]
     },
     "execution_count": 30,
     "metadata": {},
     "output_type": "execute_result"
    }
   ],
   "source": [
    "f2[f2>4][0]"
   ]
  }
 ],
 "metadata": {
  "kernelspec": {
   "display_name": "Python 3",
   "language": "python",
   "name": "python3"
  },
  "language_info": {
   "codemirror_mode": {
    "name": "ipython",
    "version": 3
   },
   "file_extension": ".py",
   "mimetype": "text/x-python",
   "name": "python",
   "nbconvert_exporter": "python",
   "pygments_lexer": "ipython3",
   "version": "3.7.4"
  }
 },
 "nbformat": 4,
 "nbformat_minor": 4
}
