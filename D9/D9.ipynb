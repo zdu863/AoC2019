{
 "cells": [
  {
   "cell_type": "code",
   "execution_count": 1,
   "metadata": {},
   "outputs": [],
   "source": [
    "import numpy as np\n",
    "import itertools"
   ]
  },
  {
   "cell_type": "code",
   "execution_count": 2,
   "metadata": {},
   "outputs": [
    {
     "name": "stdout",
     "output_type": "stream",
     "text": [
      "973\n"
     ]
    }
   ],
   "source": [
    "program=np.loadtxt('./D9input.txt',delimiter=',').astype(int)\n",
    "print(len(program))\n",
    "program=np.concatenate([program,np.zeros(100000).astype(int)])"
   ]
  },
  {
   "cell_type": "code",
   "execution_count": 3,
   "metadata": {},
   "outputs": [],
   "source": [
    "test_program=np.array([109,1,204,-1,1001,100,1,100,1008,100,16,101,1006,101,0,99])\n",
    "test_program=np.concatenate([test_program,np.zeros(100000).astype(int)])"
   ]
  },
  {
   "cell_type": "code",
   "execution_count": 4,
   "metadata": {},
   "outputs": [],
   "source": [
    "test_program2=np.array([1102,34915192,34915192,7,4,7,99,0])"
   ]
  },
  {
   "cell_type": "code",
   "execution_count": 5,
   "metadata": {},
   "outputs": [],
   "source": [
    "test_program3=np.array([104,1125899906842624,99])"
   ]
  },
  {
   "cell_type": "code",
   "execution_count": 6,
   "metadata": {},
   "outputs": [],
   "source": [
    "test_program4=np.array([109,9,203,0,109,-9,204,9,99,-99])\n",
    "test_program4=np.concatenate([test_program4,np.zeros(100000).astype(int)])"
   ]
  },
  {
   "cell_type": "code",
   "execution_count": 7,
   "metadata": {},
   "outputs": [],
   "source": [
    "def diagno2(index,data,input_arr):\n",
    "    ind=index #position of the pointer\n",
    "    input_ind=0 #pointer of the phase settings and input\n",
    "    output=0\n",
    "    base=0\n",
    "    a=data.copy()\n",
    "    while(True):\n",
    "        instr=list(reversed(str(a[ind])))\n",
    "        if len(instr)<5:\n",
    "            for i in range(5-len(instr)):\n",
    "                instr.append('0')\n",
    "\n",
    "        if instr[1]!='0':\n",
    "            if (instr[0]=='9')&(instr[1]=='9'):\n",
    "                output='Halt!' #amplifier terminates by itself\n",
    "                break\n",
    "            else:\n",
    "                print('second digit not zero')\n",
    "                break\n",
    "\n",
    "\n",
    "        if instr[0] in '1256789':\n",
    "            if instr[-1]=='1':\n",
    "                print('stores in immediate mode!')\n",
    "                break\n",
    "            para=np.zeros(2).astype(int)\n",
    "            for i,it in enumerate(instr[2:4]):\n",
    "                if it=='0':\n",
    "                    para[i]=a[a[ind+1+i]]\n",
    "                elif it=='1':\n",
    "                    para[i]=a[ind+1+i]\n",
    "                elif it=='2':\n",
    "                    para[i]=a[base+a[ind+1+i]]\n",
    "            \n",
    "            if instr[0] in '12789':\n",
    "                ind_temp=ind\n",
    "                if instr[0]=='1':\n",
    "                    store=para[0]+para[1]\n",
    "                    ind+=4\n",
    "                elif instr[0]=='2':\n",
    "                    store=para[0]*para[1]\n",
    "                    ind+=4\n",
    "                elif instr[0]=='7':\n",
    "                    if para[0]<para[1]:\n",
    "                        store=1\n",
    "                    else:\n",
    "                        store=0\n",
    "                    ind+=4\n",
    "                elif instr[0]=='8':\n",
    "                    if para[0]==para[1]:\n",
    "                        store=1\n",
    "                    else:\n",
    "                        store=0\n",
    "                    ind+=4\n",
    "                elif instr[0]=='9':\n",
    "                    base+=para[0]\n",
    "                    ind+=2\n",
    "\n",
    "                if instr[-1]=='0':\n",
    "                    a[a[ind_temp+3]]=store\n",
    "                if instr[-1]=='2':\n",
    "                    a[base+a[ind_temp+3]]=store\n",
    "                \n",
    "            elif instr[0]=='5':\n",
    "                if para[0]!=0:\n",
    "                    ind=para[1]\n",
    "                else:\n",
    "                    ind+=3\n",
    "            elif instr[0]=='6':\n",
    "                if para[0]==0:\n",
    "                    ind=para[1]\n",
    "                else:\n",
    "                    ind+=3\n",
    "                    \n",
    "        elif instr[0]=='3':\n",
    "            if instr[2]=='0':\n",
    "                a[a[ind+1]]=int(input_arr[input_ind]) #phase settings or inputs\n",
    "            elif instr[2]=='2':\n",
    "                a[base+a[ind+1]]=int(input_arr[input_ind])\n",
    "            input_ind+=1\n",
    "            ind+=2\n",
    "            \n",
    "        elif instr[0]=='4':\n",
    "            if instr[2]=='0':\n",
    "                output=a[a[ind+1]]\n",
    "            elif instr[2]=='1':\n",
    "                output=a[ind+1]\n",
    "            elif instr[2]=='2':\n",
    "                output=a[base+a[ind+1]]\n",
    "            print(output)\n",
    "            ind+=2\n",
    "        else:\n",
    "            print('must be 1-9!')\n",
    "            break\n",
    "\n",
    "    #return outputs and save the status of the amplifier\n",
    "    return output, ind, a "
   ]
  },
  {
   "cell_type": "code",
   "execution_count": 8,
   "metadata": {},
   "outputs": [
    {
     "name": "stdout",
     "output_type": "stream",
     "text": [
      "4006117640\n"
     ]
    },
    {
     "data": {
      "text/plain": [
       "('Halt!',\n",
       " 903,\n",
       " array([15648896, 62595588, 34463338, ...,   489028, 31297794,        0]))"
      ]
     },
     "execution_count": 8,
     "metadata": {},
     "output_type": "execute_result"
    }
   ],
   "source": [
    "diagno2(0,program,[1])"
   ]
  },
  {
   "cell_type": "code",
   "execution_count": 9,
   "metadata": {},
   "outputs": [
    {
     "name": "stdout",
     "output_type": "stream",
     "text": [
      "88231\n"
     ]
    },
    {
     "data": {
      "text/plain": [
       "('Halt!',\n",
       " 921,\n",
       " array([   21305, 34463338, 34463338, ...,        0,      957,        0]))"
      ]
     },
     "execution_count": 9,
     "metadata": {},
     "output_type": "execute_result"
    }
   ],
   "source": [
    "diagno2(0,program,[2])"
   ]
  },
  {
   "cell_type": "code",
   "execution_count": null,
   "metadata": {},
   "outputs": [],
   "source": []
  }
 ],
 "metadata": {
  "kernelspec": {
   "display_name": "Python 3",
   "language": "python",
   "name": "python3"
  },
  "language_info": {
   "codemirror_mode": {
    "name": "ipython",
    "version": 3
   },
   "file_extension": ".py",
   "mimetype": "text/x-python",
   "name": "python",
   "nbconvert_exporter": "python",
   "pygments_lexer": "ipython3",
   "version": "3.7.4"
  }
 },
 "nbformat": 4,
 "nbformat_minor": 4
}
