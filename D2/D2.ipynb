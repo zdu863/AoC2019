{
 "cells": [
  {
   "cell_type": "code",
   "execution_count": 22,
   "metadata": {},
   "outputs": [],
   "source": [
    "import numpy as np"
   ]
  },
  {
   "cell_type": "code",
   "execution_count": 23,
   "metadata": {},
   "outputs": [],
   "source": [
    "data=np.loadtxt('./D2data.txt', delimiter=',').astype(int)"
   ]
  },
  {
   "cell_type": "code",
   "execution_count": 31,
   "metadata": {},
   "outputs": [],
   "source": [
    "def f(arr,i,j):\n",
    "    a=arr.copy()\n",
    "    a[1]=i\n",
    "    a[2]=j\n",
    "    ind=0\n",
    "    while(True):\n",
    "        if a[ind]==99:\n",
    "            break\n",
    "        elif a[ind]==1:\n",
    "            a[a[ind+3]]=a[a[ind+1]]+a[a[ind+2]]\n",
    "        elif a[ind]==2:\n",
    "            a[a[ind+3]]=a[a[ind+1]]*a[a[ind+2]]\n",
    "        else:\n",
    "            print('error: array value is not 1, 2 or 99')\n",
    "            break\n",
    "        ind+=4\n",
    "    return a"
   ]
  },
  {
   "cell_type": "code",
   "execution_count": 32,
   "metadata": {},
   "outputs": [
    {
     "data": {
      "text/plain": [
       "4138658"
      ]
     },
     "execution_count": 32,
     "metadata": {},
     "output_type": "execute_result"
    }
   ],
   "source": [
    "f(data,12,2)[0]"
   ]
  },
  {
   "cell_type": "code",
   "execution_count": 35,
   "metadata": {},
   "outputs": [],
   "source": [
    "def g(arr):\n",
    "    for i in range(99):\n",
    "        for j in range(99):\n",
    "            if(f(arr,i,j)[0]==19690720):\n",
    "                break\n",
    "        else:\n",
    "            continue\n",
    "        break\n",
    "    return i,j"
   ]
  },
  {
   "cell_type": "code",
   "execution_count": 36,
   "metadata": {},
   "outputs": [
    {
     "data": {
      "text/plain": [
       "(72, 64)"
      ]
     },
     "execution_count": 36,
     "metadata": {},
     "output_type": "execute_result"
    }
   ],
   "source": [
    "g(data)"
   ]
  },
  {
   "cell_type": "code",
   "execution_count": null,
   "metadata": {},
   "outputs": [],
   "source": []
  }
 ],
 "metadata": {
  "kernelspec": {
   "display_name": "Python 3",
   "language": "python",
   "name": "python3"
  },
  "language_info": {
   "codemirror_mode": {
    "name": "ipython",
    "version": 3
   },
   "file_extension": ".py",
   "mimetype": "text/x-python",
   "name": "python",
   "nbconvert_exporter": "python",
   "pygments_lexer": "ipython3",
   "version": "3.7.4"
  }
 },
 "nbformat": 4,
 "nbformat_minor": 2
}
