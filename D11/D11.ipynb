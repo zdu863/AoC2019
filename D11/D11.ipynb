{
 "cells": [
  {
   "cell_type": "code",
   "execution_count": 1,
   "metadata": {},
   "outputs": [],
   "source": [
    "import numpy as np\n",
    "import itertools"
   ]
  },
  {
   "cell_type": "code",
   "execution_count": 2,
   "metadata": {},
   "outputs": [],
   "source": [
    "program=np.loadtxt('./D11input.txt',delimiter=',',dtype=int)\n",
    "# print(len(program))\n",
    "program=np.concatenate([program,np.zeros(100000).astype(int)])"
   ]
  },
  {
   "cell_type": "code",
   "execution_count": 3,
   "metadata": {},
   "outputs": [],
   "source": [
    "def diagno2(index,data,input_arr,base_in):\n",
    "    ind=index #position of the pointer\n",
    "    input_ind=0 #pointer of the phase settings and input\n",
    "    output=[]\n",
    "    base=base_in\n",
    "    store=0\n",
    "    a=data.copy()\n",
    "    while(True):\n",
    "        instr=list(reversed(str(a[ind])))\n",
    "        if len(instr)<5:\n",
    "            for i in range(5-len(instr)):\n",
    "                instr.append('0')\n",
    "\n",
    "        if instr[1]!='0':\n",
    "            if (instr[0]=='9')&(instr[1]=='9'):\n",
    "                output='Halt!' #amplifier terminates by itself\n",
    "                break\n",
    "            else:\n",
    "                print('second digit not zero')\n",
    "                break\n",
    "\n",
    "\n",
    "        if instr[0] in '1256789':\n",
    "            if instr[-1]=='1':\n",
    "                print('stores in immediate mode!')\n",
    "                break\n",
    "            para=np.zeros(2).astype(int)\n",
    "            for i,it in enumerate(instr[2:4]):\n",
    "                if it=='0':\n",
    "                    para[i]=a[a[ind+1+i]]\n",
    "                elif it=='1':\n",
    "                    para[i]=a[ind+1+i]\n",
    "                elif it=='2':\n",
    "                    para[i]=a[base+a[ind+1+i]]\n",
    "                    \n",
    "            if instr[0] in '12789':\n",
    "                ind_temp=ind\n",
    "                if instr[0]=='1':\n",
    "                    store=para[0]+para[1]\n",
    "                    ind+=4\n",
    "                elif instr[0]=='2':\n",
    "                    store=para[0]*para[1]\n",
    "                    ind+=4\n",
    "                elif instr[0]=='7':\n",
    "                    if para[0]<para[1]:\n",
    "                        store=1\n",
    "                    else:\n",
    "                        store=0\n",
    "                    ind+=4\n",
    "                elif instr[0]=='8':\n",
    "                    if para[0]==para[1]:\n",
    "                        store=1\n",
    "                    else:\n",
    "                        store=0\n",
    "                    ind+=4\n",
    "                elif instr[0]=='9':\n",
    "                    base+=para[0]\n",
    "                    ind+=2\n",
    "\n",
    "                if instr[-1]=='0':\n",
    "                    a[a[ind_temp+3]]=store\n",
    "                if instr[-1]=='2':\n",
    "                    a[base+a[ind_temp+3]]=store\n",
    "                \n",
    "            elif instr[0]=='5':\n",
    "                if para[0]!=0:\n",
    "                    ind=para[1]\n",
    "                else:\n",
    "                    ind+=3\n",
    "            elif instr[0]=='6':\n",
    "                if para[0]==0:\n",
    "                    ind=para[1]\n",
    "                else:\n",
    "                    ind+=3\n",
    "\n",
    "        elif instr[0]=='3':\n",
    "            if instr[2]=='0':\n",
    "                a[a[ind+1]]=int(input_arr[input_ind]) #phase settings or inputs\n",
    "            elif instr[2]=='2':\n",
    "                a[base+a[ind+1]]=int(input_arr[input_ind])\n",
    "            input_ind+=1\n",
    "            ind+=2\n",
    "            \n",
    "        elif instr[0]=='4':\n",
    "            if instr[2]=='0':\n",
    "                output.append(a[a[ind+1]])\n",
    "            elif instr[2]=='1':\n",
    "                output.append(a[ind+1])\n",
    "            elif instr[2]=='2':\n",
    "                output.append(a[base+a[ind+1]])\n",
    "            ind+=2\n",
    "        else:\n",
    "            print('must be 1-9!')\n",
    "            break\n",
    "            \n",
    "        if len(output)==2:\n",
    "            break\n",
    "\n",
    "    #return outputs and save the status of the amplifier\n",
    "    return output, ind, a, base"
   ]
  },
  {
   "cell_type": "code",
   "execution_count": 4,
   "metadata": {},
   "outputs": [],
   "source": [
    "n_size=90\n",
    "field=np.zeros((n_size,n_size),dtype=int)\n",
    "painted=np.zeros_like(field,dtype=int)\n",
    "x=n_size//2-1\n",
    "y=n_size//2-1\n",
    "field[x,y]=1\n",
    "pcopy=program.copy()\n",
    "out=0\n",
    "ind=0\n",
    "directions=[[-1,0],[0,-1],[1,0],[0,1]] #U,L,D,R\n",
    "d_ind=0\n",
    "base_in=0\n",
    "while True:\n",
    "    out,ind,pcopy,base_in=diagno2(ind,pcopy,[field[x][y]],base_in)\n",
    "    if out=='Halt!':\n",
    "        break\n",
    "#     print(out)\n",
    "    field[x][y]=out[0] # paint\n",
    "    if painted[x][y]==0: # already painted or not\n",
    "        painted[x][y]=1\n",
    "    if out[1]==0:\n",
    "        # turn and move\n",
    "        d_ind=(d_ind+1)%4\n",
    "    elif out[1]==1:\n",
    "        d_ind=(d_ind-1)%4\n",
    "    x+=directions[d_ind][0] \n",
    "    y+=directions[d_ind][1]"
   ]
  },
  {
   "cell_type": "code",
   "execution_count": 5,
   "metadata": {},
   "outputs": [
    {
     "data": {
      "text/plain": [
       "249"
      ]
     },
     "execution_count": 5,
     "metadata": {},
     "output_type": "execute_result"
    }
   ],
   "source": [
    "(painted==1).sum()"
   ]
  },
  {
   "cell_type": "code",
   "execution_count": 6,
   "metadata": {},
   "outputs": [],
   "source": [
    "import matplotlib.pyplot as plt"
   ]
  },
  {
   "cell_type": "code",
   "execution_count": 7,
   "metadata": {},
   "outputs": [
    {
     "data": {
      "image/png": "[encoded data removed]",
      "text/plain": [
       "<Figure size 432x288 with 1 Axes>"
      ]
     },
     "metadata": {
      "needs_background": "light"
     },
     "output_type": "display_data"
    }
   ],
   "source": [
    "plt.imshow(field, interpolation='nearest')\n",
    "plt.show()"
   ]
  },
  {
   "cell_type": "code",
   "execution_count": null,
   "metadata": {},
   "outputs": [],
   "source": []
  }
 ],
 "metadata": {
  "kernelspec": {
   "display_name": "Python 3",
   "language": "python",
   "name": "python3"
  },
  "language_info": {
   "codemirror_mode": {
    "name": "ipython",
    "version": 3
   },
   "file_extension": ".py",
   "mimetype": "text/x-python",
   "name": "python",
   "nbconvert_exporter": "python",
   "pygments_lexer": "ipython3",
   "version": "3.7.4"
  }
 },
 "nbformat": 4,
 "nbformat_minor": 4
}
