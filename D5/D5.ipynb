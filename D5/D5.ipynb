{
 "cells": [
  {
   "cell_type": "code",
   "execution_count": 1,
   "metadata": {},
   "outputs": [],
   "source": [
    "import numpy as np"
   ]
  },
  {
   "cell_type": "code",
   "execution_count": 2,
   "metadata": {},
   "outputs": [],
   "source": [
    "data=np.loadtxt('./D5input.txt',delimiter=',').astype(int)"
   ]
  },
  {
   "cell_type": "code",
   "execution_count": 3,
   "metadata": {},
   "outputs": [],
   "source": [
    "data_test=np.loadtxt('./test_example.txt',delimiter=',').astype(int)"
   ]
  },
  {
   "cell_type": "code",
   "execution_count": 4,
   "metadata": {},
   "outputs": [],
   "source": [
    "eq8_p=np.array([3,9,8,9,10,9,4,9,99,-1,8])\n",
    "lt8_p=np.array([3,9,7,9,10,9,4,9,99,-1,8])\n",
    "eq8_i=np.array([3,3,1108,-1,8,3,4,3,99])\n",
    "lt8_i=np.array([3,3,1108,-1,8,3,4,3,99])"
   ]
  },
  {
   "cell_type": "code",
   "execution_count": 5,
   "metadata": {},
   "outputs": [],
   "source": [
    "def dx(data):\n",
    "    ind=0\n",
    "    a=data.copy()\n",
    "    while(True):\n",
    "        instr=list(reversed(str(a[ind])))\n",
    "        if len(instr)<5:\n",
    "            for i in range(5-len(instr)):\n",
    "                instr.append('0')\n",
    "\n",
    "        if instr[1]!='0':\n",
    "            if (instr[0]=='9')&(instr[1]=='9'):\n",
    "                print('Halt!')\n",
    "                break\n",
    "            else:\n",
    "                print('second digit not zero')\n",
    "                break\n",
    "        if instr[-1]!='0':\n",
    "            print('output in immediate mode!')\n",
    "            break\n",
    "\n",
    "        if instr[0] in '125678':\n",
    "            para=np.zeros(2).astype(int)\n",
    "            for i,it in enumerate(instr[2:4]):\n",
    "                if it=='0':\n",
    "                    para[i]=a[a[ind+1+i]]\n",
    "                elif it=='1':\n",
    "                    para[i]=a[ind+1+i]\n",
    "\n",
    "            if instr[0]=='1':\n",
    "                a[a[ind+3]]=para[0]+para[1]\n",
    "                ind+=4\n",
    "            elif instr[0]=='2':\n",
    "                a[a[ind+3]]=para[0]*para[1]\n",
    "                ind+=4\n",
    "            elif instr[0]=='5':\n",
    "                if para[0]!=0:\n",
    "                    ind=para[1]\n",
    "                else:\n",
    "                    ind+=3\n",
    "            elif instr[0]=='6':\n",
    "                if para[0]==0:\n",
    "                    ind=para[1]\n",
    "                else:\n",
    "                    ind+=3\n",
    "\n",
    "            elif instr[0]=='7':\n",
    "                if para[0]<para[1]:\n",
    "                    a[a[ind+3]]=1\n",
    "                else:\n",
    "                    a[a[ind+3]]=0\n",
    "                ind+=4\n",
    "            elif instr[0]=='8':\n",
    "                if para[0]==para[1]:\n",
    "                    a[a[ind+3]]=1\n",
    "                else:\n",
    "                    a[a[ind+3]]=0\n",
    "                ind+=4\n",
    "\n",
    "        elif instr[0]=='3':\n",
    "            a[a[ind+1]]=int(input(prompt='Your input:'))\n",
    "            print('input=',a[a[ind+1]])\n",
    "            ind+=2\n",
    "        elif instr[0]=='4':\n",
    "            if instr[2]=='0':\n",
    "                print(a[a[ind+1]])\n",
    "            elif instr[2]=='1':\n",
    "                print(a[ind+1])\n",
    "            ind+=2\n",
    "\n",
    "        else:\n",
    "            print('must be input, output, add or multiply!')\n",
    "            break"
   ]
  },
  {
   "cell_type": "code",
   "execution_count": 6,
   "metadata": {},
   "outputs": [
    {
     "name": "stdin",
     "output_type": "stream",
     "text": [
      "Your input: 1\n"
     ]
    },
    {
     "name": "stdout",
     "output_type": "stream",
     "text": [
      "input= 1\n",
      "0\n",
      "0\n",
      "0\n",
      "0\n",
      "0\n",
      "0\n",
      "0\n",
      "0\n",
      "0\n",
      "9006673\n",
      "Halt!\n"
     ]
    }
   ],
   "source": [
    "dx(data)"
   ]
  },
  {
   "cell_type": "code",
   "execution_count": 7,
   "metadata": {},
   "outputs": [
    {
     "name": "stdin",
     "output_type": "stream",
     "text": [
      "Your input: 5\n"
     ]
    },
    {
     "name": "stdout",
     "output_type": "stream",
     "text": [
      "input= 5\n",
      "3629692\n",
      "Halt!\n"
     ]
    }
   ],
   "source": [
    "dx(data)"
   ]
  },
  {
   "cell_type": "code",
   "execution_count": null,
   "metadata": {},
   "outputs": [],
   "source": []
  }
 ],
 "metadata": {
  "kernelspec": {
   "display_name": "Python 3",
   "language": "python",
   "name": "python3"
  },
  "language_info": {
   "codemirror_mode": {
    "name": "ipython",
    "version": 3
   },
   "file_extension": ".py",
   "mimetype": "text/x-python",
   "name": "python",
   "nbconvert_exporter": "python",
   "pygments_lexer": "ipython3",
   "version": "3.7.4"
  }
 },
 "nbformat": 4,
 "nbformat_minor": 4
}
