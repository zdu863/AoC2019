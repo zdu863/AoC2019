{
 "cells": [
  {
   "cell_type": "code",
   "execution_count": 1,
   "metadata": {},
   "outputs": [],
   "source": [
    "import numpy as np\n",
    "import itertools"
   ]
  },
  {
   "cell_type": "code",
   "execution_count": 2,
   "metadata": {},
   "outputs": [],
   "source": [
    "data=np.loadtxt('./D7input.txt',delimiter=',').astype(int)"
   ]
  },
  {
   "cell_type": "code",
   "execution_count": 3,
   "metadata": {},
   "outputs": [],
   "source": [
    "test_program=np.array([3,15,3,16,1002,16,10,16,1,16,15,15,4,15,99,0,0])"
   ]
  },
  {
   "cell_type": "code",
   "execution_count": 4,
   "metadata": {},
   "outputs": [],
   "source": [
    "test_program2=np.array([3,26,1001,26,-4,26,3,27,1002,27,2,27,1,27,26,27,4,27,1001,28,-1,28,1005,28,6,99,0,0,5])"
   ]
  },
  {
   "cell_type": "code",
   "execution_count": 5,
   "metadata": {},
   "outputs": [],
   "source": [
    "test_program3=np.array([3,52,1001,52,-5,52,3,53,1,52,56,54,1007,54,5,55,1005,55,26,1001,54,\n",
    "-5,54,1105,1,12,1,53,54,53,1008,54,0,55,1001,55,1,55,2,53,55,53,4,\n",
    "53,1001,56,-1,56,1005,56,6,99,0,0,0,0,10])"
   ]
  },
  {
   "cell_type": "code",
   "execution_count": 6,
   "metadata": {},
   "outputs": [],
   "source": [
    "def diagno2(index,data,input_arr):\n",
    "    ind=index #position of the pointer\n",
    "    input_ind=0 #pointer of the phase settings and input\n",
    "    a=data.copy()\n",
    "    while(True):\n",
    "        instr=list(reversed(str(a[ind])))\n",
    "        if len(instr)<5:\n",
    "            for i in range(5-len(instr)):\n",
    "                instr.append('0')\n",
    "\n",
    "        if instr[1]!='0':\n",
    "            if (instr[0]=='9')&(instr[1]=='9'):\n",
    "                output='Halt!' #amplifier terminates by itself\n",
    "                break\n",
    "            else:\n",
    "                print('second digit not zero')\n",
    "                break\n",
    "        if instr[-1]!='0':\n",
    "            print('output in immediate mode!')\n",
    "            break\n",
    "\n",
    "        if instr[0] in '125678':\n",
    "            para=np.zeros(2).astype(int)\n",
    "            for i,it in enumerate(instr[2:4]):\n",
    "                if it=='0':\n",
    "                    para[i]=a[a[ind+1+i]]\n",
    "                elif it=='1':\n",
    "                    para[i]=a[ind+1+i]\n",
    "\n",
    "            if instr[0]=='1':\n",
    "                a[a[ind+3]]=para[0]+para[1]\n",
    "                ind+=4\n",
    "            elif instr[0]=='2':\n",
    "                a[a[ind+3]]=para[0]*para[1]\n",
    "                ind+=4\n",
    "            elif instr[0]=='5':\n",
    "                if para[0]!=0:\n",
    "                    ind=para[1]\n",
    "                else:\n",
    "                    ind+=3\n",
    "            elif instr[0]=='6':\n",
    "                if para[0]==0:\n",
    "                    ind=para[1]\n",
    "                else:\n",
    "                    ind+=3\n",
    "\n",
    "            elif instr[0]=='7':\n",
    "                if para[0]<para[1]:\n",
    "                    a[a[ind+3]]=1\n",
    "                else:\n",
    "                    a[a[ind+3]]=0\n",
    "                ind+=4\n",
    "            elif instr[0]=='8':\n",
    "                if para[0]==para[1]:\n",
    "                    a[a[ind+3]]=1\n",
    "                else:\n",
    "                    a[a[ind+3]]=0\n",
    "                ind+=4\n",
    "\n",
    "        elif instr[0]=='3':\n",
    "            a[a[ind+1]]=int(input_arr[input_ind]) #phase settings or inputs\n",
    "            input_ind+=1\n",
    "            ind+=2\n",
    "        elif instr[0]=='4':\n",
    "            if instr[2]=='0':\n",
    "                output=a[a[ind+1]]\n",
    "            elif instr[2]=='1':\n",
    "                output=a[ind+1]\n",
    "            ind+=2\n",
    "            break #pause program after one output\n",
    "        else:\n",
    "            print('must be input, output, add or multiply!')\n",
    "            break\n",
    "    return output, ind, a #return outputs and save the status of the amplifier"
   ]
  },
  {
   "cell_type": "code",
   "execution_count": 7,
   "metadata": {},
   "outputs": [],
   "source": [
    "def run(program,phase):\n",
    "    seq=phase\n",
    "    init=0\n",
    "    test=program.copy()\n",
    "    for i,ins in enumerate(seq):\n",
    "        out, _, _=diagno2(0,test,[ins,init])\n",
    "        init=out\n",
    "    return out"
   ]
  },
  {
   "cell_type": "code",
   "execution_count": 8,
   "metadata": {},
   "outputs": [
    {
     "data": {
      "text/plain": [
       "43210"
      ]
     },
     "execution_count": 8,
     "metadata": {},
     "output_type": "execute_result"
    }
   ],
   "source": [
    "run(test_program,[4,3,2,1,0])"
   ]
  },
  {
   "cell_type": "code",
   "execution_count": 9,
   "metadata": {},
   "outputs": [],
   "source": [
    "allseqs=list(itertools.permutations([0, 1, 2, 3, 4]))"
   ]
  },
  {
   "cell_type": "code",
   "execution_count": 10,
   "metadata": {},
   "outputs": [],
   "source": [
    "results=[]\n",
    "for phase in allseqs:\n",
    "    results.append(run(data,phase))\n",
    "results=np.array(results)"
   ]
  },
  {
   "cell_type": "code",
   "execution_count": 11,
   "metadata": {},
   "outputs": [
    {
     "data": {
      "text/plain": [
       "67023"
      ]
     },
     "execution_count": 11,
     "metadata": {},
     "output_type": "execute_result"
    }
   ],
   "source": [
    "np.max(results)"
   ]
  },
  {
   "cell_type": "code",
   "execution_count": null,
   "metadata": {},
   "outputs": [],
   "source": []
  },
  {
   "cell_type": "markdown",
   "metadata": {},
   "source": [
    "really hard to make it right what intented instructions are for part 2"
   ]
  },
  {
   "cell_type": "code",
   "execution_count": 12,
   "metadata": {},
   "outputs": [],
   "source": [
    "def run2(program, phase):\n",
    "    amps=[program for i in range(5)]\n",
    "    ind=[0,0,0,0,0]\n",
    "    i=0\n",
    "    j=0\n",
    "    init=0\n",
    "    seq=phase\n",
    "    while(True):\n",
    "        if j<5:\n",
    "            out,ind[i],amps[i]=diagno2(ind[i],amps[i],[seq[i],init]) #only need phase settings in the first loop\n",
    "        else:\n",
    "            out,ind[i],amps[i]=diagno2(ind[i],amps[i],[init,None])\n",
    "        if out=='Halt!':\n",
    "            break\n",
    "        init=out\n",
    "        i=(i+1)%5\n",
    "        j+=1\n",
    "    return init"
   ]
  },
  {
   "cell_type": "code",
   "execution_count": 13,
   "metadata": {},
   "outputs": [
    {
     "data": {
      "text/plain": [
       "139629729"
      ]
     },
     "execution_count": 13,
     "metadata": {},
     "output_type": "execute_result"
    }
   ],
   "source": [
    "run2(test_program2,[9,8,7,6,5])"
   ]
  },
  {
   "cell_type": "code",
   "execution_count": 14,
   "metadata": {},
   "outputs": [
    {
     "data": {
      "text/plain": [
       "18216"
      ]
     },
     "execution_count": 14,
     "metadata": {},
     "output_type": "execute_result"
    }
   ],
   "source": [
    "run2(test_program3,[9,7,8,5,6])"
   ]
  },
  {
   "cell_type": "code",
   "execution_count": 15,
   "metadata": {},
   "outputs": [],
   "source": [
    "allseqs2=list(itertools.permutations([5, 6, 7, 8, 9]))"
   ]
  },
  {
   "cell_type": "code",
   "execution_count": 16,
   "metadata": {},
   "outputs": [],
   "source": [
    "results2=[]\n",
    "for phase in allseqs2:\n",
    "    results2.append(run2(data,phase))\n",
    "results2=np.array(results2)"
   ]
  },
  {
   "cell_type": "code",
   "execution_count": 17,
   "metadata": {},
   "outputs": [
    {
     "data": {
      "text/plain": [
       "7818398"
      ]
     },
     "execution_count": 17,
     "metadata": {},
     "output_type": "execute_result"
    }
   ],
   "source": [
    "np.max(results2)"
   ]
  },
  {
   "cell_type": "code",
   "execution_count": null,
   "metadata": {},
   "outputs": [],
   "source": []
  }
 ],
 "metadata": {
  "kernelspec": {
   "display_name": "Python 3",
   "language": "python",
   "name": "python3"
  },
  "language_info": {
   "codemirror_mode": {
    "name": "ipython",
    "version": 3
   },
   "file_extension": ".py",
   "mimetype": "text/x-python",
   "name": "python",
   "nbconvert_exporter": "python",
   "pygments_lexer": "ipython3",
   "version": "3.7.4"
  }
 },
 "nbformat": 4,
 "nbformat_minor": 4
}
