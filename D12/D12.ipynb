{
 "cells": [
  {
   "cell_type": "code",
   "execution_count": 1,
   "metadata": {},
   "outputs": [],
   "source": [
    "import numpy as np"
   ]
  },
  {
   "cell_type": "code",
   "execution_count": 2,
   "metadata": {},
   "outputs": [],
   "source": [
    "p_init=np.array([[1, 4, 4],[-4, -1, 19],[-15, -14, 12],[-17, 1, 10]])\n",
    "# p_init=np.array([[-1, 0, 2],[2, -10, -7],[4, -8, 8],[3, 5, -1]])\n",
    "# p_init=np.array([[-1, 0, 2],[2, -10, -7],[4, -8, 8],[3, 5, -1]])\n",
    "v_init=np.zeros_like(p_init,dtype=int) "
   ]
  },
  {
   "cell_type": "code",
   "execution_count": 3,
   "metadata": {},
   "outputs": [],
   "source": [
    "p=p_init.copy()\n",
    "v=v_init.copy()\n",
    "for step in range(1000):\n",
    "    a=np.zeros_like(p_init,dtype=int)\n",
    "    for i in range(4):\n",
    "        temp=p[i]*np.ones((4,1),dtype=int)\n",
    "        a[i]+=np.sum(np.sign(p-temp),axis=0)\n",
    "    v+=a\n",
    "    p+=v\n",
    "    step+=1"
   ]
  },
  {
   "cell_type": "code",
   "execution_count": 4,
   "metadata": {},
   "outputs": [
    {
     "data": {
      "text/plain": [
       "10635"
      ]
     },
     "execution_count": 4,
     "metadata": {},
     "output_type": "execute_result"
    }
   ],
   "source": [
    "(np.sum(np.abs(p),axis=1)*np.sum(np.abs(v),axis=1)).sum() #total energy"
   ]
  },
  {
   "cell_type": "code",
   "execution_count": 5,
   "metadata": {},
   "outputs": [],
   "source": [
    "steps=[]\n",
    "# find the period for each individual component (x,y,z)\n",
    "for ind in range(3):\n",
    "    p=p_init[:,ind].copy()\n",
    "    v=v_init[:,ind].copy()\n",
    "    step=0\n",
    "    while True:\n",
    "        a=np.zeros_like(p_init[:,ind],dtype=int)\n",
    "        for i in range(4):\n",
    "            a[i]+=np.sign(p-p[i]).sum()\n",
    "        v+=a\n",
    "        p+=v\n",
    "        step+=1\n",
    "        if np.all((p-p_init[:,ind])==0)&np.all((v-v_init[:,ind])==0):\n",
    "            break\n",
    "    steps.append(step)"
   ]
  },
  {
   "cell_type": "code",
   "execution_count": 6,
   "metadata": {},
   "outputs": [
    {
     "data": {
      "text/plain": [
       "583523031727256"
      ]
     },
     "execution_count": 6,
     "metadata": {},
     "output_type": "execute_result"
    }
   ],
   "source": [
    "np.lcm.reduce(steps) # total period is the least common multiple of sub-periods"
   ]
  },
  {
   "cell_type": "code",
   "execution_count": null,
   "metadata": {},
   "outputs": [],
   "source": []
  }
 ],
 "metadata": {
  "kernelspec": {
   "display_name": "Python 3",
   "language": "python",
   "name": "python3"
  },
  "language_info": {
   "codemirror_mode": {
    "name": "ipython",
    "version": 3
   },
   "file_extension": ".py",
   "mimetype": "text/x-python",
   "name": "python",
   "nbconvert_exporter": "python",
   "pygments_lexer": "ipython3",
   "version": "3.7.4"
  }
 },
 "nbformat": 4,
 "nbformat_minor": 4
}
