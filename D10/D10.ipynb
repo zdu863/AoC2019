{
 "cells": [
  {
   "cell_type": "code",
   "execution_count": 1,
   "metadata": {},
   "outputs": [],
   "source": [
    "import numpy as np\n",
    "import itertools"
   ]
  },
  {
   "cell_type": "code",
   "execution_count": 2,
   "metadata": {},
   "outputs": [],
   "source": [
    "filename='./D10input.txt'\n",
    "with open(filename,'r') as fh: # read in files\n",
    "    temp = fh.read().splitlines()"
   ]
  },
  {
   "cell_type": "markdown",
   "metadata": {},
   "source": [
    "# Part1 #"
   ]
  },
  {
   "cell_type": "code",
   "execution_count": 3,
   "metadata": {},
   "outputs": [],
   "source": [
    "# produce map of astroids coordinates\n",
    "arr=[]\n",
    "for s in temp:\n",
    "    arr.append(list(s)) # split each row into characters\n",
    "mp=np.array(arr) # astroid map\n",
    "dim=mp.shape # dimension of the map\n",
    "asts=np.argwhere(mp=='#') #astroids coordinates"
   ]
  },
  {
   "cell_type": "code",
   "execution_count": 4,
   "metadata": {},
   "outputs": [],
   "source": [
    "def gcd(a,b):  # greatest common divisor\n",
    "    if(b==0): \n",
    "        return a \n",
    "    else: \n",
    "        return gcd(b,a%b) "
   ]
  },
  {
   "cell_type": "code",
   "execution_count": 5,
   "metadata": {},
   "outputs": [],
   "source": [
    "# all direction vectors with coprime components\n",
    "dircs=np.array(list(itertools.product(range(1,dim[0]),range(1,dim[1])))) # find all possible directions in the 1st quadrant\n",
    "gcds=np.array([gcd(*c) for c in dircs])\n",
    "cp_dircs=dircs[gcds==1] # direction vector with coprime x and y compnents \n",
    "cp_dircs2=cp_dircs.copy() \n",
    "cp_dircs2[:,1]=-cp_dircs[:,1] # direction vector in the 4th quadrant\n",
    "cp_dircs=np.append(cp_dircs,cp_dircs2,axis=0)\n",
    "cp_dircs=np.append(cp_dircs,[[0,1],[1,0]],axis=0) # add direction vectors of x and y direction"
   ]
  },
  {
   "cell_type": "code",
   "execution_count": 6,
   "metadata": {},
   "outputs": [],
   "source": [
    "# number of detectable astroids for each astroid location\n",
    "n_detect=np.zeros_like(asts[:,0],dtype=int)\n",
    "for dirc in cp_dircs: # choose one directoin vector\n",
    "    # evaluate z=ax+by: inner product between the direction vector(a,b) and the coordinate of the astroid(x,y)\n",
    "    values=dirc[0]*asts[:,0]+dirc[1]*asts[:,1]\n",
    "    uni_values,counts=np.unique(values,return_counts=True) # find the unique 'z's and how many times they appeared\n",
    "    # mask: if 2 or more points get the same value z means they are in each others LOS\n",
    "    for uval in uni_values[counts>1]:\n",
    "        msk1=(values==uval) # astroids on the line\n",
    "        # find astroids on the ends of the line, only '+1' to n_detect\n",
    "        if ((dirc[0]!=1)&(dirc[1]!=0)): # line not perpendicular to x axis\n",
    "            x_coords=asts[:,0][msk1] # x coordinates of the astroids on the line\n",
    "            x_min=np.amin(x_coords)\n",
    "            x_max=np.amax(x_coords)\n",
    "            msk2=(asts[:,0]==x_min)|(asts[:,0]==x_max) # astroids on the ends of the line\n",
    "        # line perpendicular to x axis, use y coordinates to find the end points\n",
    "        else: \n",
    "            y_coords=asts[:,1][msk1]\n",
    "            y_min=np.amin(y_coords)\n",
    "            y_max=np.amax(y_coords)\n",
    "            msk2=(asts[:,1]==y_min)|(asts[:,1]==y_max)\n",
    "\n",
    "        # apply mask to the map of number counts\n",
    "        n_detect[msk1&(~msk2)]+=2 # astroids in the middle of the line can detect 2 other astroids\n",
    "        n_detect[msk1&msk2]+=1 # astroids on the ends can only detect 1 other astroid"
   ]
  },
  {
   "cell_type": "code",
   "execution_count": 7,
   "metadata": {},
   "outputs": [
    {
     "data": {
      "text/plain": [
       "282"
      ]
     },
     "execution_count": 7,
     "metadata": {},
     "output_type": "execute_result"
    }
   ],
   "source": [
    "np.amax(n_detect)"
   ]
  },
  {
   "cell_type": "markdown",
   "metadata": {},
   "source": [
    "# Part2 #"
   ]
  },
  {
   "cell_type": "code",
   "execution_count": 8,
   "metadata": {},
   "outputs": [],
   "source": [
    "station=asts[n_detect.argmax()] # coordinates of the station"
   ]
  },
  {
   "cell_type": "code",
   "execution_count": 9,
   "metadata": {},
   "outputs": [],
   "source": [
    "recds=asts-station #coordinates relative to the station\n",
    "recds=np.delete(recds,np.arange(len(recds))[(recds[:,0]==0)&(recds[:,1]==0)],axis=0) # remove (0,0), the station itself"
   ]
  },
  {
   "cell_type": "code",
   "execution_count": 10,
   "metadata": {},
   "outputs": [],
   "source": [
    "theta=np.arctan2(recds[:,1], -recds[:,0]) # angle theta respect to y axis and rotating clockwise\n",
    "theta=np.where((-np.pi<theta)&(theta<0),theta+2*np.pi,theta) # fix angle: [-pi, pi]->[0, 2pi]\n",
    "r=np.hypot(recds[:,1], -recds[:,0]) # distance to the station"
   ]
  },
  {
   "cell_type": "code",
   "execution_count": 11,
   "metadata": {},
   "outputs": [],
   "source": [
    "# create a ndarray with columns: theta, r, y, x of the astroids in the relative coordinates\n",
    "all_data=np.rec.fromarrays([theta, r, recds[:,0],recds[:,1]], dtype=[('theta','float'),('r','float'),('y','int'),('x','int')])\n",
    "all_data.sort(order=['theta','r']) # first sort in angle then in distance"
   ]
  },
  {
   "cell_type": "code",
   "execution_count": 12,
   "metadata": {},
   "outputs": [],
   "source": [
    "data_copy=all_data.copy()\n",
    "corder=np.empty((2,0),dtype=int) # initialize: coordinates of the astroids evaporated in order\n",
    "while len(data_copy)>0:\n",
    "    # for astroids with the same angles, only the astroid with smallest distance to the station gets evaporated in one rotation\n",
    "    _, inds=np.unique(data_copy['theta'],return_index=True) \n",
    "    corder=np.hstack((corder,np.array([data_copy['y'][inds],data_copy['x'][inds]]))) # append the coordinates of the evaporated\n",
    "    data_copy=np.delete(data_copy,inds) # remove the evaporated astroids from the map\n",
    "corder=corder.T+station # restore absolute coordinates"
   ]
  },
  {
   "cell_type": "code",
   "execution_count": 13,
   "metadata": {},
   "outputs": [
    {
     "data": {
      "text/plain": [
       "array([ 8, 10])"
      ]
     },
     "execution_count": 13,
     "metadata": {},
     "output_type": "execute_result"
    }
   ],
   "source": [
    "corder[200-1]"
   ]
  },
  {
   "cell_type": "code",
   "execution_count": null,
   "metadata": {},
   "outputs": [],
   "source": []
  }
 ],
 "metadata": {
  "kernelspec": {
   "display_name": "Python 3",
   "language": "python",
   "name": "python3"
  },
  "language_info": {
   "codemirror_mode": {
    "name": "ipython",
    "version": 3
   },
   "file_extension": ".py",
   "mimetype": "text/x-python",
   "name": "python",
   "nbconvert_exporter": "python",
   "pygments_lexer": "ipython3",
   "version": "3.7.4"
  }
 },
 "nbformat": 4,
 "nbformat_minor": 4
}
