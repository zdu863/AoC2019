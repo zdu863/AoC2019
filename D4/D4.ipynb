{
 "cells": [
  {
   "cell_type": "code",
   "execution_count": 1,
   "metadata": {},
   "outputs": [],
   "source": [
    "import numpy as np"
   ]
  },
  {
   "cell_type": "code",
   "execution_count": 2,
   "metadata": {},
   "outputs": [],
   "source": [
    "arr=np.arange(109165,576724).astype(str)"
   ]
  },
  {
   "cell_type": "code",
   "execution_count": 3,
   "metadata": {},
   "outputs": [],
   "source": [
    "def part1(arr):\n",
    "    count=0\n",
    "    for s in arr:\n",
    "        a=np.array(list(s[0:-1]))\n",
    "        b=np.array(list(s[1:]))\n",
    "        a_1=a.astype(int)\n",
    "        b_1=b.astype(int)\n",
    "        if (~np.all(~(a==b)))&(np.all((b_1-a_1)>=0)):\n",
    "            count+=1\n",
    "    return count"
   ]
  },
  {
   "cell_type": "code",
   "execution_count": 4,
   "metadata": {},
   "outputs": [
    {
     "data": {
      "text/plain": [
       "2814"
      ]
     },
     "execution_count": 4,
     "metadata": {},
     "output_type": "execute_result"
    }
   ],
   "source": [
    "part1(arr)"
   ]
  },
  {
   "cell_type": "code",
   "execution_count": 5,
   "metadata": {},
   "outputs": [],
   "source": [
    "def part2(arr):\n",
    "    count=0\n",
    "    for s in arr:\n",
    "        a=np.array(list(s[0:-1]))\n",
    "        b=np.array(list(s[1:]))\n",
    "        msk=(a==b)\n",
    "        if np.all(~msk):\n",
    "            continue\n",
    "        else:\n",
    "            a_1=a.astype(int)\n",
    "            b_1=b.astype(int)\n",
    "        if ~np.all((b_1-a_1)>=0):\n",
    "            continue\n",
    "        else:\n",
    "            a_2=np.array(list(s[0:-2]))\n",
    "            b_2=np.array(list(s[2:]))\n",
    "            msk2=(a_2==b_2)\n",
    "            nums=a[msk]\n",
    "            nums2=a_2[msk2]\n",
    "        if set(nums)!=set(nums2):\n",
    "            count+=1\n",
    "    return count"
   ]
  },
  {
   "cell_type": "code",
   "execution_count": 6,
   "metadata": {},
   "outputs": [
    {
     "data": {
      "text/plain": [
       "1991"
      ]
     },
     "execution_count": 6,
     "metadata": {},
     "output_type": "execute_result"
    }
   ],
   "source": [
    "part2(arr)"
   ]
  },
  {
   "cell_type": "code",
   "execution_count": null,
   "metadata": {},
   "outputs": [],
   "source": []
  }
 ],
 "metadata": {
  "kernelspec": {
   "display_name": "Python 3",
   "language": "python",
   "name": "python3"
  },
  "language_info": {
   "codemirror_mode": {
    "name": "ipython",
    "version": 3
   },
   "file_extension": ".py",
   "mimetype": "text/x-python",
   "name": "python",
   "nbconvert_exporter": "python",
   "pygments_lexer": "ipython3",
   "version": "3.7.4"
  }
 },
 "nbformat": 4,
 "nbformat_minor": 4
}
