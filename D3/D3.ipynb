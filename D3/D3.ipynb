{
 "cells": [
  {
   "cell_type": "code",
   "execution_count": 1,
   "metadata": {},
   "outputs": [],
   "source": [
    "import numpy as np"
   ]
  },
  {
   "cell_type": "code",
   "execution_count": 2,
   "metadata": {},
   "outputs": [],
   "source": [
    "w1=np.loadtxt('./wire1.txt',dtype=str,delimiter=',')\n",
    "w2=np.loadtxt('./wire2.txt',dtype=str,delimiter=',')"
   ]
  },
  {
   "cell_type": "code",
   "execution_count": 3,
   "metadata": {},
   "outputs": [],
   "source": [
    "def footprints(wire):\n",
    "    posi=np.array([0,0]).astype(int)\n",
    "    x_footprt=np.array([])\n",
    "    y_footprt=np.array([])    \n",
    "    for it in wire:\n",
    "        temp=posi.copy()\n",
    "        dirc=it[0]\n",
    "        dist=int(it[1:])\n",
    "        if dirc=='R':\n",
    "            temp[0]+=dist\n",
    "            x_ftpt=np.arange(posi[0]+1,temp[0]+1,1)\n",
    "            y_ftpt=posi[1]*np.ones(x_ftpt.shape,dtype=int)\n",
    "        elif dirc=='L':\n",
    "            temp[0]+=(-dist)\n",
    "            x_ftpt=np.arange(posi[0]-1,temp[0]-1,-1)\n",
    "            y_ftpt=posi[1]*np.ones(x_ftpt.shape,dtype=int)\n",
    "        elif dirc=='U':\n",
    "            temp[1]+=dist\n",
    "            y_ftpt=np.arange(posi[1]+1,temp[1]+1,1)\n",
    "            x_ftpt=posi[0]*np.ones(y_ftpt.shape,dtype=int)\n",
    "        elif dirc=='D':\n",
    "            temp[1]+=(-dist)\n",
    "            y_ftpt=np.arange(posi[1]-1,temp[1]-1,-1)\n",
    "            x_ftpt=posi[0]*np.ones(y_ftpt.shape,dtype=int)\n",
    "            \n",
    "        x_footprt=np.concatenate((x_footprt,x_ftpt)).astype(int)\n",
    "        y_footprt=np.concatenate((y_footprt,y_ftpt)).astype(int)\n",
    "        posi=temp\n",
    "    return np.vstack((x_footprt, y_footprt))"
   ]
  },
  {
   "cell_type": "code",
   "execution_count": 4,
   "metadata": {},
   "outputs": [],
   "source": [
    "ft1=footprints(w1)\n",
    "ft2=footprints(w2)"
   ]
  },
  {
   "cell_type": "code",
   "execution_count": 5,
   "metadata": {},
   "outputs": [],
   "source": [
    "uni1=1000000*ft1[1]+ft1[0]\n",
    "uni2=1000000*ft2[1]+ft2[0]"
   ]
  },
  {
   "cell_type": "code",
   "execution_count": 6,
   "metadata": {},
   "outputs": [],
   "source": [
    "msk1=np.isin(uni1,uni2)"
   ]
  },
  {
   "cell_type": "code",
   "execution_count": 7,
   "metadata": {},
   "outputs": [
    {
     "data": {
      "text/plain": [
       "273"
      ]
     },
     "execution_count": 7,
     "metadata": {},
     "output_type": "execute_result"
    }
   ],
   "source": [
    "np.min(np.abs(ft1[0][msk1])+np.abs(ft1[1][msk1]))"
   ]
  },
  {
   "cell_type": "code",
   "execution_count": 8,
   "metadata": {},
   "outputs": [],
   "source": [
    "inds1=np.arange(1,len(ft1[0])+1)\n",
    "inds2=np.arange(1,len(ft2[0])+1)"
   ]
  },
  {
   "cell_type": "code",
   "execution_count": 9,
   "metadata": {},
   "outputs": [],
   "source": [
    "steps1=inds1[msk1]"
   ]
  },
  {
   "cell_type": "code",
   "execution_count": 10,
   "metadata": {},
   "outputs": [],
   "source": [
    "steps2=[]\n",
    "for it in uni1[msk1]:\n",
    "    steps2.append(np.min(inds2[uni2==it]))\n",
    "steps2=np.array(steps2)"
   ]
  },
  {
   "cell_type": "code",
   "execution_count": 11,
   "metadata": {},
   "outputs": [
    {
     "data": {
      "text/plain": [
       "15622"
      ]
     },
     "execution_count": 11,
     "metadata": {},
     "output_type": "execute_result"
    }
   ],
   "source": [
    "np.min(steps1+steps2)"
   ]
  },
  {
   "cell_type": "code",
   "execution_count": null,
   "metadata": {},
   "outputs": [],
   "source": []
  }
 ],
 "metadata": {
  "kernelspec": {
   "display_name": "Python 3",
   "language": "python",
   "name": "python3"
  },
  "language_info": {
   "codemirror_mode": {
    "name": "ipython",
    "version": 3
   },
   "file_extension": ".py",
   "mimetype": "text/x-python",
   "name": "python",
   "nbconvert_exporter": "python",
   "pygments_lexer": "ipython3",
   "version": "3.7.4"
  }
 },
 "nbformat": 4,
 "nbformat_minor": 2
}
